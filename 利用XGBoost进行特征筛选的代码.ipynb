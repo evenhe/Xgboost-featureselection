{
 "cells": [
  {
   "cell_type": "code",
   "execution_count": null,
   "metadata": {},
   "outputs": [],
   "source": [
    "# use feature importance for feature selection\n",
    "from numpy import loadtxt\n",
    "from numpy import sort\n",
    "import pandas as pd\n",
    "from xgboost import XGBClassifier\n",
    "from sklearn.model_selection import train_test_split\n",
    "from sklearn.metrics import accuracy_score\n",
    "from sklearn.feature_selection import SelectFromModel\n",
    "# load data"
   ]
  },
  {
   "cell_type": "code",
   "execution_count": null,
   "metadata": {},
   "outputs": [],
   "source": [
    "#dataset = loadtxt('pima-indians-diabetes.csv', delimiter=\",\")\n",
    "dataset=pd.read_csv('ytr1.csv',encoding='gbk')\n",
    "feature1=dataset[np.r_[np.array(dataset.columns[1:10].values)]]######数据用feature，其中[]内为需要参与计算的特征数，例：想看第一到第十个因子对因变量的影响，则填[0:9]\n",
    "# split data into X and y\n",
    "X = feature1#特征因子\n",
    "Y = dataset['需要预测的值标签']\n",
    "# split data into train and test sets\n",
    "X_train, X_test, y_train, y_test = train_test_split(X, Y, test_size=0.3, random_state=7)\n",
    "# fit model on all training data"
   ]
  },
  {
   "cell_type": "code",
   "execution_count": null,
   "metadata": {},
   "outputs": [],
   "source": [
    "\n",
    "model = XGBClassifier()\n",
    "model.fit(X_train, y_train)\n",
    "# make predictions for test data and evaluate\n",
    "y_pred = model.predict(X_test)\n",
    "predictions = [round(value) for value in y_pred]\n",
    "accuracy = accuracy_score(y_test, predictions)\n",
    "print(\"Accuracy: %.2f%%\" % (accuracy * 100.0))\n",
    "# Fit model using each importance as a threshold\n",
    "thresholds = sort(model.feature_importances_)\n",
    "\n"
   ]
  },
  {
   "cell_type": "code",
   "execution_count": null,
   "metadata": {},
   "outputs": [],
   "source": [
    "for thresh in thresholds:\n",
    "    # select features using threshold\n",
    "    selection = SelectFromModel(model, threshold=thresh, prefit=True)\n",
    "    select_X_train = selection.transform(X_train)\n",
    "    # train model\n",
    "    selection_model = XGBClassifier()\n",
    "    selection_model.fit(select_X_train, y_train)\n",
    "    # eval model\n",
    "    select_X_test = selection.transform(X_test)\n",
    "    y_pred = selection_model.predict(select_X_test)\n",
    "    predictions = [round(value) for value in y_pred]\n",
    "    accuracy = accuracy_score(y_test, predictions)\n",
    "    print(\"Thresh=%.3f, n=%d, Accuracy: %.2f%%\" % (thresh, select_X_train.shape[1], accuracy*100.0))"
   ]
  },
  {
   "cell_type": "code",
   "execution_count": null,
   "metadata": {},
   "outputs": [],
   "source": [
    "# plot feature importance using built-in function\n",
    "from xgboost import plot_importance\n",
    "from pylab import mpl\n",
    "import matplotlib.pyplot as plt\n",
    "import matplotlib\n",
    "mpl.rcParams['font.sans-serif'] = ['SimHei']\n",
    "#matplotlib.rcParams['figure.figsize'] = (8.0, 4.0)\n",
    "#plt.title(\"年数据-XGBoost-模型中排名前24的特征及其系数\",fontsize=18)\n",
    "#plt.savefig('LR特征筛选',dpi=300, bbox_inches = 'tight')\n",
    "#plt.show()\n",
    "plot_importance(model,max_num_features=24,title='Xgboost特征重要性排序')\n",
    "fig=plt.gcf()\n",
    "#fig.set_size_inches(150, 100)\n",
    "#plt.show()\n",
    "fig.savefig('XBoost特征.png',dpi=300, bbox_inches = 'tight')\n",
    "#pyplot.show()"
   ]
  },
  {
   "cell_type": "code",
   "execution_count": null,
   "metadata": {},
   "outputs": [],
   "source": [
    "tezheng=pd.DataFrame(model.feature_importances_,dataset.columns.values[1:10])#其中[]内为原文件所有参与的特征,同上\n",
    "tezheng=tezheng.sort_values(by=0,axis=0,ascending=False)\n",
    "tezheng.to_csv('data_tezheng.csv',encoding='gbk')##将特征导出为csv文件，并将重要性排序"
   ]
  },
  {
   "cell_type": "markdown",
   "metadata": {},
   "source": [
    "<font color=Blue size=4>&emsp;相关系数热力图 <br/><font/>"
   ]
  },
  {
   "cell_type": "code",
   "execution_count": null,
   "metadata": {},
   "outputs": [],
   "source": [
    "###########相关系数热力图\n",
    "import pandas as pd\n",
    "import seaborn as sns\n",
    "import numpy as np\n",
    "from matplotlib import pyplot as plt\n",
    "from pylab import mpl\n",
    "mpl.rcParams['font.sans-serif'] = ['SimHei']\n",
    "#data=pd.read_csv('ytr1.csv',encoding='gbk')###数据用\n",
    "data=pd.read_csv('34jidu_zenzhang_suoying.csv',encoding='gbk')###数据用\n",
    "#data1=np.loadtxt(open('feature.csv',dtype='str',skiprows=1)\n",
    "#data1=pd.read_csv('feature.csv',encoding='gbk')\n",
    "key=tezheng.index.values[0:18]\n",
    "#print(data[data1.LABEL])\n",
    "#data=data[data1.LABEL[0:16]]\n",
    "data=data[key]\n",
    "#data=data.iloc[0:7,3:30]\n",
    "print(np.size(data.corr(),1))\n",
    "plt.subplots(figsize=(np.size(data.corr(),1),np.size(data.corr(),1)))\n",
    "sns.heatmap(data.corr(),annot=True,vmax=1,square=True,cmap='Blues')\n",
    "plt.savefig('')\n",
    "#plt.title('年数据特征的相关系数热力图',fontsize=28)\n",
    "plt.title('XGBoost模型-特征的相关系数热力图',fontsize=28)\n",
    "plt.tick_params(labelsize=24)\n",
    "#plt.savefig('年数据-LR模型-相关系数热力图',dpi=300)\n",
    "plt.savefig('XGBoost模型-相关系数热力图',dpi=300)\n",
    "plt.show()\n",
    "ax=plt.subplots(figsize=(np.size(data.corr(),1),np.size(data.corr(),1)))\n",
    "#ax.set_ylabel('')\n",
    "#ax.set_xlabel('')"
   ]
  },
  {
   "cell_type": "markdown",
   "metadata": {},
   "source": [
    "<font color=Blue size=4>&emsp;下列为ROC图的绘制 <br/><font/>"
   ]
  },
  {
   "cell_type": "code",
   "execution_count": null,
   "metadata": {},
   "outputs": [],
   "source": [
    "##########此处为ROC图绘制，并可得到AUC值\n",
    "from sklearn.metrics  import roc_curve,auc\n",
    "from matplotlib import pyplot as plt\n",
    "from pylab import mpl\n",
    "mpl.rcParams['font.sans-serif'] = ['SimHei']\n",
    "#y_score=LR(threshold=0.009,C=2).fit(X_train,y_train).predict_proba(x_test) #descision_function()不可用\n",
    "#print('trainscore:'+str(model_lasso.score(X_train,y_train)))\n",
    "model = XGBClassifier()\n",
    "#model.fit(X_train, y_train)\n",
    "y_score=model.fit(X_train, y_train).predict_proba(X_test) #descision_function()不可用\n",
    "# make predictions for test data and evaluate\n",
    "y_pred = model.predict(X_test)\n",
    "#print('testscore:'+str(model_lasso.score(x_test,y_test)))\n",
    "#print(type(y_score))\n",
    "fpr,tpr,threshold=roc_curve(y_test,y_score[:, 1])\n",
    "roc_auc=auc(fpr,tpr)###AUC值\n",
    "plt.figure(figsize=(10,10))\n",
    "plt.plot(fpr, tpr,color='darkorange',\n",
    "lw=2, label='ROC curve (area = %0.2f)' % roc_auc) ###假正率为横坐标，真正率为纵坐标做曲线\n",
    "plt.plot([0, 1], [0, 1], color='navy', lw=2, linestyle='--')\n",
    "plt.xlim([0.0, 1.0])\n",
    "plt.ylim([0.0, 1.05])\n",
    "plt.xlabel('False Positive Rate',fontsize=18)\n",
    "plt.ylabel('True Positive Rate',fontsize=18)\n",
    "plt.title('日数据-XGBoost模型-ROC曲线',fontsize=24)\n",
    "plt.legend(loc=\"lower right\")\n",
    "#plt.savefig('XGBoost-ROC',dpi=300, bbox_inches = 'tight')\n",
    "plt.show()\n",
    "print(roc_auc)"
   ]
  },
  {
   "cell_type": "code",
   "execution_count": null,
   "metadata": {},
   "outputs": [],
   "source": []
  }
 ],
 "metadata": {
  "kernelspec": {
   "display_name": "Python 3",
   "language": "python",
   "name": "python3"
  },
  "language_info": {
   "codemirror_mode": {
    "name": "ipython",
    "version": 3
   },
   "file_extension": ".py",
   "mimetype": "text/x-python",
   "name": "python",
   "nbconvert_exporter": "python",
   "pygments_lexer": "ipython3",
   "version": "3.8.3"
  }
 },
 "nbformat": 4,
 "nbformat_minor": 4
}
